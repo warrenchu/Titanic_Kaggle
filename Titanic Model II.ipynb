{
 "cells": [
  {
   "cell_type": "code",
   "execution_count": 26,
   "metadata": {
    "collapsed": true
   },
   "outputs": [],
   "source": [
    "# Setup\n",
    "import pandas as pd\n",
    "from xgboost import XGBClassifier\n",
    "from typing import Union, Dict, List\n",
    "from sklearn.ensemble import RandomForestClassifier\n",
    "\n",
    "train_df = pd.read_csv(\"train.csv\")\n",
    "test_df = pd.read_csv(\"test.csv\")\n",
    "alldata = pd.concat([train_df.drop(['Survived'], axis=1), test_df])"
   ]
  },
  {
   "cell_type": "code",
   "execution_count": 21,
   "outputs": [],
   "source": [
    "# Missing values\n",
    "\n",
    "with_na = ['Age', 'SibSp', 'Cabin']\n",
    "\n",
    "alldata['Age'] = alldata['Age'].fillna(alldata['Age'].mean())#Drop cabin as it has too many missing values\n",
    "alldata['Embarked'].fillna('S', inplace=True)\n",
    "#Drop ticket as it's irrelavant\n",
    "alldata= alldata.drop(['Ticket', 'Cabin'],axis=1)\n",
    "alldata.isna().sum()\n",
    "alldata['Fare']=alldata['Fare'].fillna(alldata['Fare'].mean())"
   ],
   "metadata": {
    "collapsed": false,
    "pycharm": {
     "name": "#%%\n"
    }
   }
  },
  {
   "cell_type": "code",
   "execution_count": 22,
   "outputs": [],
   "source": [
    "def extract_titles(dataframe:pd.DataFrame)->Dict[str, int]:\n",
    "    title_to_count = {}\n",
    "    for fullname in dataframe['Name']:\n",
    "        fn = fullname.split(',')\n",
    "        surname = fn[0]\n",
    "        given_name_and_title = fn[1]\n",
    "        split_given_name_and_title = given_name_and_title.split()\n",
    "        if split_given_name_and_title[0] in title_to_count:\n",
    "            title_to_count[split_given_name_and_title[0]] +=1\n",
    "        else:\n",
    "            title_to_count[split_given_name_and_title[0]] = 1\n",
    "    return title_to_count\n",
    "titles_train= extract_titles(alldata)\n",
    "\n",
    "def title_col(dataframe:pd.DataFrame) -> None:\n",
    "    \"\"\"\n",
    "    Create a col for title\n",
    "    :param dataframe:\n",
    "    :return:\n",
    "    \"\"\"\n",
    "    titles=[]\n",
    "    for fullname in dataframe['Name']:\n",
    "        fn= fullname.split(',')\n",
    "        surname=fn[0]\n",
    "        given_name_t=fn[1]\n",
    "        t=given_name_t.split()\n",
    "        titles.append(t[0])\n",
    "    dataframe['Titles']=titles\n",
    "title_col(alldata)\n",
    "alldata= alldata.drop(['Name'], axis=1)"
   ],
   "metadata": {
    "collapsed": false,
    "pycharm": {
     "name": "#%% Deal with titles\n"
    }
   }
  },
  {
   "cell_type": "code",
   "execution_count": 28,
   "outputs": [],
   "source": [
    "categorical_features = ['Pclass', 'Titles', 'Embarked', 'Sex']\n",
    "\n",
    "# Encode the features and transform train and test\n",
    "alldata = pd.get_dummies(alldata)"
   ],
   "metadata": {
    "collapsed": false,
    "pycharm": {
     "name": "#%% get dummies\n"
    }
   }
  },
  {
   "cell_type": "code",
   "execution_count": 29,
   "outputs": [
    {
     "name": "stderr",
     "output_type": "stream",
     "text": [
      "C:\\Users\\warre\\anaconda3\\envs\\Titanic\\lib\\site-packages\\xgboost\\sklearn.py:892: UserWarning: The use of label encoder in XGBClassifier is deprecated and will be removed in a future release. To remove this warning, do the following: 1) Pass option use_label_encoder=False when constructing XGBClassifier object; and 2) Encode your labels (y) as integers starting with 0, i.e. 0, 1, 2, ..., [num_class - 1].\n",
      "  warnings.warn(label_encoder_deprecation_msg, UserWarning)\n"
     ]
    },
    {
     "name": "stdout",
     "output_type": "stream",
     "text": [
      "[19:24:17] WARNING: C:/Users/Administrator/workspace/xgboost-win64_release_1.3.0/src/learner.cc:1061: Starting in XGBoost 1.3.0, the default evaluation metric used with the objective 'binary:logistic' was changed from 'error' to 'logloss'. Explicitly set eval_metric if you'd like to restore the old behavior.\n"
     ]
    }
   ],
   "source": [
    "y = train_df['Survived']\n",
    "trainX = alldata.head(891)\n",
    "testX = alldata.tail(418)\n",
    "model = XGBClassifier()\n",
    "model.fit(trainX, y)\n",
    "predictions = model.predict(testX)\n",
    "output = pd.DataFrame({'PassengerId': test_df.PassengerId, 'Survived': predictions})\n",
    "output.to_csv('xgbnew.csv', index=False)\n",
    "\n"
   ],
   "metadata": {
    "collapsed": false,
    "pycharm": {
     "name": "#%%Now the machine learning model part\n"
    }
   }
  }
 ],
 "metadata": {
  "kernelspec": {
   "name": "python3",
   "language": "python",
   "display_name": "Python 3"
  },
  "language_info": {
   "codemirror_mode": {
    "name": "ipython",
    "version": 2
   },
   "file_extension": ".py",
   "mimetype": "text/x-python",
   "name": "python",
   "nbconvert_exporter": "python",
   "pygments_lexer": "ipython2",
   "version": "2.7.6"
  }
 },
 "nbformat": 4,
 "nbformat_minor": 0
}